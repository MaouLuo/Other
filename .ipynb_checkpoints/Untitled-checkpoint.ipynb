{
 "cells": [
  {
   "cell_type": "code",
   "execution_count": 2,
   "metadata": {},
   "outputs": [],
   "source": [
    "import requests\n",
    "import urllib"
   ]
  },
  {
   "cell_type": "code",
   "execution_count": 3,
   "metadata": {},
   "outputs": [
    {
     "name": "stdout",
     "output_type": "stream",
     "text": [
      "{\"msg\":\"Request source is null.\",\"status\":0,\"data\":[],\"errorCode\":\"RequestSourceNull\"}\n"
     ]
    }
   ],
   "source": [
    "url = 'https://206.dev.nexttoship.com/vop2/backend/public/api/Freight/getFlightCourse'\n",
    "\n",
    "resp = requests.post(url, timeout=5)\n",
    "print(resp.text)"
   ]
  },
  {
   "cell_type": "code",
   "execution_count": null,
   "metadata": {},
   "outputs": [],
   "source": [
    "# 网络上图片的地址\n",
    "img_src = '//img.ivsky.com/img/tupian/t/201906/18/juzuiniao.jpg'\n",
    "\n",
    "# 将远程数据下载到本地，第二个参数就是要保存到本地的文件名\n",
    "urllib.urlretrieve(img_src,'1.jpg')"
   ]
  }
 ],
 "metadata": {
  "kernelspec": {
   "display_name": "Python 3",
   "language": "python",
   "name": "python3"
  },
  "language_info": {
   "codemirror_mode": {
    "name": "ipython",
    "version": 3
   },
   "file_extension": ".py",
   "mimetype": "text/x-python",
   "name": "python",
   "nbconvert_exporter": "python",
   "pygments_lexer": "ipython3",
   "version": "3.7.4"
  }
 },
 "nbformat": 4,
 "nbformat_minor": 2
}
