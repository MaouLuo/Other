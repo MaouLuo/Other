{
 "cells": [
  {
   "cell_type": "code",
   "execution_count": 6,
   "metadata": {},
   "outputs": [
    {
     "ename": "TypeError",
     "evalue": "list expected at most 1 arguments, got 2",
     "output_type": "error",
     "traceback": [
      "\u001b[1;31m---------------------------------------------------------------------------\u001b[0m",
      "\u001b[1;31mTypeError\u001b[0m                                 Traceback (most recent call last)",
      "\u001b[1;32m<ipython-input-6-389679dbf944>\u001b[0m in \u001b[0;36m<module>\u001b[1;34m\u001b[0m\n\u001b[0;32m      3\u001b[0m \u001b[0mc\u001b[0m \u001b[1;33m=\u001b[0m \u001b[1;36m2\u001b[0m\u001b[1;33m\u001b[0m\u001b[1;33m\u001b[0m\u001b[0m\n\u001b[0;32m      4\u001b[0m \u001b[1;33m\u001b[0m\u001b[0m\n\u001b[1;32m----> 5\u001b[1;33m \u001b[0ma\u001b[0m\u001b[1;33m[\u001b[0m\u001b[1;34m'b'\u001b[0m\u001b[1;33m]\u001b[0m \u001b[1;33m=\u001b[0m \u001b[0mlist\u001b[0m\u001b[1;33m(\u001b[0m\u001b[0mb\u001b[0m\u001b[1;33m,\u001b[0m\u001b[0mc\u001b[0m\u001b[1;33m)\u001b[0m\u001b[1;33m\u001b[0m\u001b[1;33m\u001b[0m\u001b[0m\n\u001b[0m\u001b[0;32m      6\u001b[0m \u001b[0mprint\u001b[0m\u001b[1;33m(\u001b[0m\u001b[0ma\u001b[0m\u001b[1;33m[\u001b[0m\u001b[1;34m'b'\u001b[0m\u001b[1;33m]\u001b[0m\u001b[1;33m)\u001b[0m\u001b[1;33m\u001b[0m\u001b[1;33m\u001b[0m\u001b[0m\n",
      "\u001b[1;31mTypeError\u001b[0m: list expected at most 1 arguments, got 2"
     ]
    }
   ],
   "source": [
    "a = {}\n",
    "b = 1\n",
    "c = 2\n",
    "\n",
    "a['b'] = list(b,c)\n",
    "print(a['b'])"
   ]
  },
  {
   "cell_type": "code",
   "execution_count": 35,
   "metadata": {},
   "outputs": [
    {
     "name": "stdout",
     "output_type": "stream",
     "text": [
      "False\n"
     ]
    }
   ],
   "source": [
    "d = {'result':{'an': {'age':'Zara'}, 'age':{7,8,9}}}\n",
    "for v in d['result'].keys():\n",
    "    #print(len(v))\n",
    "    pass\n",
    "len(d['result']['age'])\n",
    "\n",
    "a = ['sh']\n",
    "bool(a)\n",
    "a.append('sh')\n",
    "print(bool('s' in a))"
   ]
  },
  {
   "cell_type": "code",
   "execution_count": 16,
   "metadata": {},
   "outputs": [
    {
     "name": "stdout",
     "output_type": "stream",
     "text": [
      "['北京', '天津', '河北', '山西', '内蒙古', '辽宁', '吉林', '黑龙江', '上海', '江苏', '浙江', '安徽', '福建']\n",
      "176\n",
      "['山东', '河南', '湖北', '湖南', '广东', '广西', '海南', '重庆', '四川']\n",
      "178\n",
      "['云南', '西藏', '陕西', '甘肃', '青海', '宁夏', '新疆', '台湾', '澳门', '香港', '钓鱼岛']\n",
      "87\n"
     ]
    }
   ],
   "source": [
    "import json\n",
    "\n",
    "with open('./地级行政区.json', encoding='utf-8') as f:\n",
    "    jd = json.load(f)\n",
    "    \n",
    "#print(jd['北京'])\n",
    "i = 0\n",
    "p = []\n",
    "\n",
    "for c in jd:\n",
    "    #print(c)    \n",
    "    #print(len(jd[c]))\n",
    "    if (i + len(jd[c])) <= 180:\n",
    "        p.append(c)\n",
    "        i += len(jd[c])\n",
    "    else:\n",
    "        print(p)\n",
    "        print(i)\n",
    "        p.clear()\n",
    "        i = 0\n",
    "print(p)\n",
    "print(i)"
   ]
  }
 ],
 "metadata": {
  "kernelspec": {
   "display_name": "Python 3",
   "language": "python",
   "name": "python3"
  },
  "language_info": {
   "codemirror_mode": {
    "name": "ipython",
    "version": 3
   },
   "file_extension": ".py",
   "mimetype": "text/x-python",
   "name": "python",
   "nbconvert_exporter": "python",
   "pygments_lexer": "ipython3",
   "version": "3.7.4"
  }
 },
 "nbformat": 4,
 "nbformat_minor": 4
}
