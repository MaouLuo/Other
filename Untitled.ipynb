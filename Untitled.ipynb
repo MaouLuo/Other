{
 "cells": [
  {
   "cell_type": "code",
   "execution_count": 52,
   "metadata": {},
   "outputs": [],
   "source": [
    "import requests\n",
    "import urllib\n",
    "from bs4 import BeautifulSoup\n",
    "import re\n",
    "import os"
   ]
  },
  {
   "cell_type": "code",
   "execution_count": 53,
   "metadata": {},
   "outputs": [
    {
     "name": "stdout",
     "output_type": "stream",
     "text": [
      "{\"msg\":\"Request source is null.\",\"status\":0,\"data\":[],\"errorCode\":\"RequestSourceNull\"}\n"
     ]
    }
   ],
   "source": [
    "url = 'https://206.dev.nexttoship.com/vop2/backend/public/api/Freight/getFlightCourse'\n",
    "\n",
    "resp = requests.post(url, timeout=5)\n",
    "print(resp.text)"
   ]
  },
  {
   "cell_type": "code",
   "execution_count": 54,
   "metadata": {},
   "outputs": [
    {
     "data": {
      "text/plain": [
       "('2.jpg', <http.client.HTTPMessage at 0x1d6eb96c588>)"
      ]
     },
     "execution_count": 54,
     "metadata": {},
     "output_type": "execute_result"
    }
   ],
   "source": [
    "# 网络上图片的地址\n",
    "img_src = 'https://img.ivsky.com/img/tupian/t/201906/18/juzuiniao.jpg'\n",
    "src1 = 'https://img.ivsky.com/img/tupian/pre/201906/18/juzuiniao-001.jpg'\n",
    "\n",
    "# 将远程数据下载到本地，第二个参数就是要保存到本地的文件名\n",
    "# urllib.request.urlretrieve(img_src,'1.jpg')\n",
    "urllib.request.urlretrieve(src1, '2.jpg')\n"
   ]
  },
  {
   "cell_type": "code",
   "execution_count": 55,
   "metadata": {
    "scrolled": true
   },
   "outputs": [
    {
     "name": "stdout",
     "output_type": "stream",
     "text": [
      "['//img.ivsky.com/img/tupian/t/201906/18/juzuiniao.jpg', '//img.ivsky.com/img/tupian/t/201906/18/juzuiniao-001.jpg', '//img.ivsky.com/img/tupian/t/201906/18/juzuiniao-002.jpg', '//img.ivsky.com/img/tupian/t/201906/18/juzuiniao-003.jpg', '//img.ivsky.com/img/tupian/t/201906/18/juzuiniao-004.jpg', '//img.ivsky.com/img/tupian/t/201906/18/juzuiniao-005.jpg', '//img.ivsky.com/img/tupian/t/201906/18/juzuiniao-006.jpg', '//img.ivsky.com/img/tupian/t/201906/18/juzuiniao-007.jpg', '//img.ivsky.com/img/tupian/t/201906/18/juzuiniao-008.jpg', '//img.ivsky.com/img/tupian/t/201906/18/juzuiniao-009.jpg', '//img.ivsky.com/img/tupian/t/201906/18/juzuiniao-010.jpg', '//img.ivsky.com/img/tupian/t/201906/18/juzuiniao-011.jpg', '//img.ivsky.com/img/tupian/t/201906/18/juzuiniao-012.jpg', '//img.ivsky.com/img/tupian/t/201906/18/juzuiniao-013.jpg', '//img.ivsky.com/img/tupian/t/201906/18/juzuiniao-014.jpg']\n"
     ]
    }
   ],
   "source": [
    "page_url = 'https://www.ivsky.com/tupian/juzuiniao_v56731/'\n",
    "\n",
    "resp = requests.get(page_url, timeout=5)\n",
    "soup = BeautifulSoup(resp.text, 'lxml')\n",
    "\n",
    "# 先定位含图组路径父节点\n",
    "father = soup.find_all('div', attrs={'class':'il_img'})\n",
    "\n",
    "# 定位子节点\n",
    "f_tags = []\n",
    "c_tags = []\n",
    "for children in father:\n",
    "    f_tags += children.find_all('a')\n",
    "    \n",
    "for tag in f_tags:\n",
    "    c_tags += tag.find_all('img')\n",
    "#print(c_tags)\n",
    "\n",
    "# 获取所有子节点的链接\n",
    "urls = []\n",
    "for tag in c_tags:\n",
    "    #print(link['href'])\n",
    "    urls.append(tag['src'])\n",
    "    \n",
    "print(urls)"
   ]
  },
  {
   "cell_type": "code",
   "execution_count": 69,
   "metadata": {},
   "outputs": [
    {
     "name": "stdout",
     "output_type": "stream",
     "text": [
      "https//img.ivsky.com/img/tupian/pre/201906/18/juzuiniao.jpg\n"
     ]
    }
   ],
   "source": [
    "# 缩略图  //img.ivsky.com/img/tupian/t/201906/18/juzuiniao.jpg\n",
    "# 大图  //img.ivsky.com/img/tupian/pre/201906/18/juzuiniao.jpg\n",
    "head = 'https//img.ivsky.com/img/tupian/pre/'\n",
    "url = '//img.ivsky.com/img/tupian/t/201906/18/juzuiniao.jpg'\n",
    "tail = re.findall(r'//img.ivsky.com/img/tupian/t/(.*?).jpg', url)\n",
    "#tail = re.search(r'//img.ivsky.com/img/tupian/t/(.*?).jpg', url)\n",
    "#print(tail.group())\n",
    "url = head + tail[0] + '.jpg'\n",
    "print(url)"
   ]
  },
  {
   "cell_type": "code",
   "execution_count": 57,
   "metadata": {},
   "outputs": [
    {
     "name": "stdout",
     "output_type": "stream",
     "text": [
      "//img.ivsky.com/img/tupian/t/201906/18/juzuiniao.jpg\n"
     ]
    }
   ],
   "source": [
    "url = '//img.ivsky.com/img/tupian/t/201906/18/juzuiniao.jpg'\n",
    "print(url)"
   ]
  },
  {
   "cell_type": "code",
   "execution_count": 65,
   "metadata": {},
   "outputs": [
    {
     "name": "stdout",
     "output_type": "stream",
     "text": [
      "False\n"
     ]
    }
   ],
   "source": [
    "path = 'img/'\n",
    "a = os.path.exists('F:\\code\\ismg')\n",
    "print(a)"
   ]
  },
  {
   "cell_type": "code",
   "execution_count": 95,
   "metadata": {},
   "outputs": [
    {
     "ename": "IndexError",
     "evalue": "list index out of range",
     "output_type": "error",
     "traceback": [
      "\u001b[1;31m---------------------------------------------------------------------------\u001b[0m",
      "\u001b[1;31mIndexError\u001b[0m                                Traceback (most recent call last)",
      "\u001b[1;32m<ipython-input-95-f27c348e380b>\u001b[0m in \u001b[0;36m<module>\u001b[1;34m\u001b[0m\n\u001b[0;32m      2\u001b[0m \u001b[0murl1\u001b[0m \u001b[1;33m=\u001b[0m \u001b[1;34m'https://img.ivsky.com/img/tupian/pre/201906/13/batemaotouying.jpg'\u001b[0m\u001b[1;33m\u001b[0m\u001b[1;33m\u001b[0m\u001b[0m\n\u001b[0;32m      3\u001b[0m \u001b[0mpattern\u001b[0m \u001b[1;33m=\u001b[0m \u001b[1;34mr'https//img.ivsky.com/img/tupian/pre/\\d*?/\\d*?/(.*?)$'\u001b[0m\u001b[1;33m\u001b[0m\u001b[1;33m\u001b[0m\u001b[0m\n\u001b[1;32m----> 4\u001b[1;33m \u001b[0mname\u001b[0m \u001b[1;33m=\u001b[0m \u001b[0mre\u001b[0m\u001b[1;33m.\u001b[0m\u001b[0mfindall\u001b[0m\u001b[1;33m(\u001b[0m\u001b[0mpattern\u001b[0m\u001b[1;33m,\u001b[0m \u001b[0murl1\u001b[0m\u001b[1;33m)\u001b[0m\u001b[1;33m[\u001b[0m\u001b[1;36m0\u001b[0m\u001b[1;33m]\u001b[0m\u001b[1;33m\u001b[0m\u001b[1;33m\u001b[0m\u001b[0m\n\u001b[0m\u001b[0;32m      5\u001b[0m \u001b[0mprint\u001b[0m\u001b[1;33m(\u001b[0m\u001b[1;34m'{0}.xiazai'\u001b[0m\u001b[1;33m.\u001b[0m\u001b[0mformat\u001b[0m\u001b[1;33m(\u001b[0m\u001b[0mname\u001b[0m\u001b[1;33m)\u001b[0m\u001b[1;33m)\u001b[0m\u001b[1;33m\u001b[0m\u001b[1;33m\u001b[0m\u001b[0m\n",
      "\u001b[1;31mIndexError\u001b[0m: list index out of range"
     ]
    }
   ],
   "source": [
    "url = 'https//img.ivsky.com/img/tupian/pre/201906/18/juzuiniao.jpg'\n",
    "url1 = 'https://img.ivsky.com/img/tupian/pre/201906/13/batemaotouying.jpg'\n",
    "pattern = r'https//img.ivsky.com/img/tupian/pre/\\d*?/\\d*?/(.*?)$'\n",
    "name = re.findall(pattern, url1)[0]\n",
    "print('{0}.xiazai'.format(name))"
   ]
  },
  {
   "cell_type": "code",
   "execution_count": 90,
   "metadata": {},
   "outputs": [
    {
     "name": "stdout",
     "output_type": "stream",
     "text": [
      "色彩鲜艳的巨嘴鸟图片(15张)的地址为/tupian/juzuiniao_v56731/\n",
      "有毒蜘蛛微距图片(22张)的地址为/tupian/zhizhu_v56726/\n",
      "各种颜色的毛毛虫图片(14张)的地址为/tupian/maomaochong_v56718/\n",
      "彩色梦幻美丽优雅的蝴蝶图片(22张)的地址为/tupian/hudie_v56721/\n",
      "毒性较大的黄蜂图片(14张)的地址为/tupian/huangfeng_v56714/\n",
      "动物园里的环尾狐猴图片(12张)的地址为/tupian/huanweihuhou_v56687/\n",
      "威猛的狮子图片(12张)的地址为/tupian/shizi_v56679/\n",
      "海鸥的特写图片(14张)的地址为/tupian/haiou_v56678/\n",
      "野生的松鼠图片(13张)的地址为/tupian/songshu_v56672/\n",
      "体格健壮的老虎图片(13张)的地址为/tupian/laohu_v56680/\n",
      "羽毛柔顺的鹦鹉图片(13张)的地址为/tupian/yingwu_v56668/\n",
      "野生的蜥蜴图片(11张)的地址为/tupian/xiyi_v56670/\n",
      "漂亮的孔雀图片(14张)的地址为/tupian/kongque_v56671/\n",
      "采蜜的蜜蜂图片(14张)的地址为/tupian/mifeng_v56669/\n",
      "采花蜜的蝴蝶图片(15张)的地址为/tupian/hudie_v56667/\n",
      "行动缓慢的蜗牛图片(8张)的地址为/tupian/woniu_v56659/\n",
      "呆萌的巴特猫头鹰图片(13张)的地址为/tupian/bate_maotouying_v56657/\n",
      "洁白美丽的天鹅图片(8张)的地址为/tupian/tiane_v56656/\n"
     ]
    }
   ],
   "source": [
    "resp = requests.get('https://www.ivsky.com/tupian/dongwutupian/', timeout=5)\n",
    "soup = BeautifulSoup(resp.text, 'lxml')\n",
    "\n",
    "# 先定位含图组路径父节点\n",
    "father = soup.find_all('div', attrs={'class':'il_img'})\n",
    "\n",
    "# 定位二级节点\n",
    "tags = []\n",
    "for children in father:\n",
    "    tags += children.find_all('a')\n",
    "\n",
    "group_urls = {}\n",
    "# 获取所有二级节点的链接\n",
    "for tag in tags:\n",
    "    #print(link['href'])\n",
    "    #self.group_urls.append(tag['href'])\n",
    "    group_urls[tag['title']] = tag['href']\n",
    "    \n",
    "for k,v in group_urls.items():\n",
    "    print('{0}的地址为{1}'.format(k,v))"
   ]
  },
  {
   "cell_type": "code",
   "execution_count": 96,
   "metadata": {},
   "outputs": [
    {
     "ename": "SyntaxError",
     "evalue": "invalid syntax (<ipython-input-96-7065e2eb8259>, line 9)",
     "output_type": "error",
     "traceback": [
      "\u001b[1;36m  File \u001b[1;32m\"<ipython-input-96-7065e2eb8259>\"\u001b[1;36m, line \u001b[1;32m9\u001b[0m\n\u001b[1;33m    finally:\u001b[0m\n\u001b[1;37m          ^\u001b[0m\n\u001b[1;31mSyntaxError\u001b[0m\u001b[1;31m:\u001b[0m invalid syntax\n"
     ]
    }
   ],
   "source": [
    "a = 1\n",
    "b = 2\n",
    "c = 3\n",
    "d = True\n",
    "if d:\n",
    "    print(a)\n",
    "else:\n",
    "    print(b)\n",
    "finally:\n",
    "    print(c)"
   ]
  }
 ],
 "metadata": {
  "kernelspec": {
   "display_name": "Python 3",
   "language": "python",
   "name": "python3"
  },
  "language_info": {
   "codemirror_mode": {
    "name": "ipython",
    "version": 3
   },
   "file_extension": ".py",
   "mimetype": "text/x-python",
   "name": "python",
   "nbconvert_exporter": "python",
   "pygments_lexer": "ipython3",
   "version": "3.7.4"
  }
 },
 "nbformat": 4,
 "nbformat_minor": 2
}
