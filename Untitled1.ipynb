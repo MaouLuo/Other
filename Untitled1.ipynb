{
 "cells": [
  {
   "cell_type": "code",
   "execution_count": 3,
   "metadata": {},
   "outputs": [],
   "source": [
    "from validate_email import validate_email\n",
    "import requests"
   ]
  },
  {
   "cell_type": "code",
   "execution_count": 18,
   "metadata": {},
   "outputs": [
    {
     "name": "stdout",
     "output_type": "stream",
     "text": [
      "200\n"
     ]
    }
   ],
   "source": [
    "context = '''# 隐私声明\n",
    "---\n",
    "\n",
    "### 电子通讯\n",
    "\n",
    "当您访问搜航网站或给我们发送电子邮件时，您与我们用电子方式进行联系。您同意以电子方式接受我们的信息。'''\n",
    "\n",
    "data = {'text':'enen 人', 'desp': context}\n",
    "resp = requests.get('https://sc.ftqq.com/SCU77831Td9cccdfd533462659d8d881e9408da945e1ffad3eb8a8.send', params=data)\n",
    "\n",
    "print(resp.status_code)"
   ]
  }
 ],
 "metadata": {
  "kernelspec": {
   "display_name": "Python 3",
   "language": "python",
   "name": "python3"
  },
  "language_info": {
   "codemirror_mode": {
    "name": "ipython",
    "version": 3
   },
   "file_extension": ".py",
   "mimetype": "text/x-python",
   "name": "python",
   "nbconvert_exporter": "python",
   "pygments_lexer": "ipython3",
   "version": "3.7.4"
  }
 },
 "nbformat": 4,
 "nbformat_minor": 2
}
